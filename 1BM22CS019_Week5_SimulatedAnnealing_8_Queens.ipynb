{
  "nbformat": 4,
  "nbformat_minor": 0,
  "metadata": {
    "colab": {
      "provenance": []
    },
    "kernelspec": {
      "name": "python3",
      "display_name": "Python 3"
    },
    "language_info": {
      "name": "python"
    }
  },
  "cells": [
    {
      "cell_type": "code",
      "execution_count": 1,
      "metadata": {
        "colab": {
          "base_uri": "https://localhost:8080/"
        },
        "id": "ML-g5Jftho0I",
        "outputId": "f06322ec-0ff0-45d7-dfb0-2d711645b2a2"
      },
      "outputs": [
        {
          "output_type": "stream",
          "name": "stdout",
          "text": [
            "\n",
            "Aditya Ram S H\n",
            "1BM22CS019\n",
            "\n",
            "Solution board positions : [3, 0, 4, 7, 1, 6, 2, 5]\n",
            "\n",
            ". Q . . . . . . \n",
            "\n",
            ". . . . Q . . . \n",
            "\n",
            ". . . . . . Q . \n",
            "\n",
            "Q . . . . . . . \n",
            "\n",
            ". . Q . . . . . \n",
            "\n",
            ". . . . . . . Q \n",
            "\n",
            ". . . . . Q . . \n",
            "\n",
            ". . . Q . . . . \n",
            "\n",
            "Number of conflicts: 0\n"
          ]
        }
      ],
      "source": [
        "import random\n",
        "import math\n",
        "\n",
        "def calculate_cost(board):\n",
        "    conflicts = 0\n",
        "    n = len(board)\n",
        "    for i in range(n):\n",
        "        for j in range(i + 1, n):\n",
        "            if board[i] == board[j] or abs(board[i] - board[j]) == abs(i - j):\n",
        "                conflicts += 1\n",
        "    return conflicts\n",
        "\n",
        "def get_random_neighbour(board):\n",
        "    n = len(board)\n",
        "    new_board = board[:]\n",
        "    col = random.randint(0, n - 1)\n",
        "    new_row = random.choice([i for i in range(n) if i != board[col]])\n",
        "    new_board[col] = new_row\n",
        "    return new_board\n",
        "\n",
        "def simulated_annealing(n):\n",
        "    current = [random.randint(0, n - 1) for _ in range(n)]\n",
        "    current_cost = calculate_cost(current)\n",
        "    T = 100  # Starting temperature\n",
        "    cooling_rate = 0.5  # Cooling rate\n",
        "\n",
        "    while T > 0:\n",
        "        next_board = get_random_neighbour(current)\n",
        "        next_cost = calculate_cost(next_board)\n",
        "        delta_E = current_cost - next_cost\n",
        "\n",
        "        if delta_E > 0:\n",
        "            current, current_cost = next_board, next_cost\n",
        "        else:\n",
        "            probability = math.exp(delta_E / T)\n",
        "            if random.random() < probability:\n",
        "                current, current_cost = next_board, next_cost\n",
        "\n",
        "        T *= cooling_rate  # Decrease temperature\n",
        "        # T -= 1\n",
        "\n",
        "    return current\n",
        "\n",
        "print('\\nAditya Ram S H\\n1BM22CS019\\n')\n",
        "solution = simulated_annealing(8)\n",
        "print(f\"Solution board positions : {solution}\\n\")\n",
        "board = [['.']*8 for i in range(8)]\n",
        "for i in range(8):\n",
        "    board[solution[i]][i] = 'Q'\n",
        "for i in range(8):\n",
        "    for j in range(8):\n",
        "        print(board[i][j], end=' ')\n",
        "    print('\\n')\n",
        "print(\"Number of conflicts:\", calculate_cost(solution))"
      ]
    }
  ]
}
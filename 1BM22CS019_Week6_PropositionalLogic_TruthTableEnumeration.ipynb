{
  "nbformat": 4,
  "nbformat_minor": 0,
  "metadata": {
    "colab": {
      "provenance": []
    },
    "kernelspec": {
      "name": "python3",
      "display_name": "Python 3"
    },
    "language_info": {
      "name": "python"
    }
  },
  "cells": [
    {
      "cell_type": "code",
      "execution_count": 4,
      "metadata": {
        "colab": {
          "base_uri": "https://localhost:8080/"
        },
        "id": "TO4r4PKTnjSs",
        "outputId": "479a6d2d-02d7-45b6-cddc-e15677ce7e66"
      },
      "outputs": [
        {
          "output_type": "stream",
          "name": "stdout",
          "text": [
            "\n",
            "Aditya Ram S H\n",
            "1BM22CS019\n",
            "\n",
            "P\tQ\tR\tQ->P\tP->~Q\tQvR\tKB\tR->P\tQ->R\t\n",
            "\n",
            "0\t0\t0\tTrue\tTrue\tFalse\tFalse\tTrue\tTrue\t\n",
            "\n",
            "0\t0\t1\tTrue\tTrue\tTrue\tTrue\tFalse\tTrue\t\n",
            "\n",
            "0\t1\t0\tFalse\tTrue\tTrue\tFalse\tTrue\tFalse\t\n",
            "\n",
            "1\t0\t0\tTrue\tTrue\tFalse\tFalse\tTrue\tTrue\t\n",
            "\n",
            "1\t0\t0\tTrue\tTrue\tFalse\tFalse\tTrue\tTrue\t\n",
            "\n",
            "1\t0\t1\tTrue\tTrue\tTrue\tTrue\tTrue\tTrue\t\n",
            "\n",
            "1\t1\t0\tTrue\tFalse\tTrue\tFalse\tTrue\tFalse\t\n",
            "\n",
            "1\t1\t1\tTrue\tFalse\tTrue\tFalse\tTrue\tTrue\t\n",
            "\n",
            "Does KB entail R?  True\n",
            "Does KB entail R -> P?  False\n",
            "Does KB entail Q -> R?  True\n"
          ]
        }
      ],
      "source": [
        "import itertools\n",
        "l = [[0]*9 for _ in range(9)]\n",
        "l[0] = ['P','Q','R','Q->P','P->~Q','QvR','KB','R->P','Q->R']\n",
        "l[1][:3] = [0,0,0]\n",
        "l[2][:3] = [0,0,1]\n",
        "l[3][:3] = [0,1,0]\n",
        "l[4][:3] = [1,0,0]\n",
        "count = 3\n",
        "for i in range(5,9):\n",
        "    count += 1\n",
        "    l[i][:3] = map(int,str(f'{count:3b}'))\n",
        "\n",
        "for i in range(1,9):\n",
        "    for j in range(3,9):\n",
        "        if j==3:\n",
        "            l[i][j] = bool(not l[i][1] or l[i][0])\n",
        "        elif j==4:\n",
        "            l[i][j] = bool(not l[i][0] or not l[i][1])\n",
        "        elif j==5:\n",
        "            l[i][j] = bool(l[i][1] or l[i][2])\n",
        "        elif j==6:\n",
        "            l[i][j] = bool(l[i][3] and l[i][4] and l[i][5])\n",
        "        elif j==7:\n",
        "            l[i][j] = bool(not l[i][2] or l[i][0])\n",
        "        elif j==8:\n",
        "            l[i][j] = bool(not l[i][1] or l[i][2])\n",
        "\n",
        "print(\"\\nAditya Ram S H\\n1BM22CS019\\n\")\n",
        "\n",
        "for i in range(9):\n",
        "    for j in range(9):\n",
        "        print(l[i][j],end='\\t')\n",
        "    print(\"\\n\")\n",
        "\n",
        "def implies(p, q):\n",
        "    return not p or q\n",
        "\n",
        "def negation(p):\n",
        "    return not p\n",
        "\n",
        "def disjunction(p, q):\n",
        "    return p or q\n",
        "\n",
        "def entails(kb, query):\n",
        "    combinations = list(itertools.product([False, True], repeat=3))\n",
        "\n",
        "    for combination in combinations:\n",
        "        Q, P, R = combination\n",
        "        kb_true = kb(Q, P, R)\n",
        "        query_true = query(Q, P, R)\n",
        "\n",
        "        if kb_true and not query_true:\n",
        "            return False\n",
        "    return True\n",
        "\n",
        "def kb(Q, P, R):\n",
        "    return implies(Q, P) and implies(P, negation(Q)) and disjunction(Q, R)\n",
        "\n",
        "def query1(Q, P, R):\n",
        "    return R\n",
        "\n",
        "def query2(Q, P, R):\n",
        "    return implies(R, P)\n",
        "\n",
        "def query3(Q, P, R):\n",
        "    return implies(Q, R)\n",
        "\n",
        "print(\"Does KB entail R? \", entails(kb, query1))\n",
        "print(\"Does KB entail R -> P? \", entails(kb, query2))\n",
        "print(\"Does KB entail Q -> R? \", entails(kb, query3))\n",
        "print(\"KB : (Q->P) and (P->~Q) and (QvR)\")"
      ]
    }
  ]
}